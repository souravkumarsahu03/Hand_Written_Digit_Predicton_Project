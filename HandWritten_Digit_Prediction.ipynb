{
  "nbformat": 4,
  "nbformat_minor": 0,
  "metadata": {
    "colab": {
      "provenance": [],
      "authorship_tag": "ABX9TyNvwf11AAixg7TD/jBL/gyw",
      "include_colab_link": true
    },
    "kernelspec": {
      "name": "python3",
      "display_name": "Python 3"
    },
    "language_info": {
      "name": "python"
    }
  },
  "cells": [
    {
      "cell_type": "markdown",
      "metadata": {
        "id": "view-in-github",
        "colab_type": "text"
      },
      "source": [
        "<a href=\"https://colab.research.google.com/github/souravkumarsahu03/Hand_Written_Digit_Predicton_Project/blob/main/Untitled1.ipynb\" target=\"_parent\"><img src=\"https://colab.research.google.com/assets/colab-badge.svg\" alt=\"Open In Colab\"/></a>"
      ]
    },
    {
      "cell_type": "markdown",
      "source": [
        "**HAND WRITTEN DIGIT PREDICTION**"
      ],
      "metadata": {
        "id": "8snlNeg1BP7j"
      }
    },
    {
      "cell_type": "markdown",
      "source": [
        "**OBJECTIVE:** The main objective of a Handwritten Digit Prediction project is to develop a system that can accurately recognize and classify handwritten digits (from 0 to 9) presented to it. This system should be able to handle variations in handwriting styles and be robust to imperfections in the drawn digits.\n",
        "The success of the project is measured by the accuracy of the predictions. A well-trained model should be able to achieve high accuracy on unseen handwritten digits.\n",
        "Some additional aspects :\n",
        "\n",
        "*   Real-time prediction: Allow users to draw digits on a user interface and get instant predictions.\n",
        "*   Multiple digit recognition: Extend the model to recognize sequences of handwritten digits.\n",
        "\n",
        "*   Addressing specific challenges: Focus on recognizing digits from a particular handwriting style (e.g., children's handwriting).\n",
        "\n",
        "\n",
        "\n"
      ],
      "metadata": {
        "id": "ThnCYeq7BPEd"
      }
    },
    {
      "cell_type": "markdown",
      "source": [
        "**DATA SOURCE:**\n",
        "\n",
        "\n",
        "*  YouTube\n",
        "*  Google\n",
        "*  Ybi Foundation\n",
        "*  Kaggle\n",
        "*  Github\n",
        "\n",
        "\n",
        "\n",
        "\n",
        "\n",
        "\n"
      ],
      "metadata": {
        "id": "lJQ3UZ1_C5IQ"
      }
    },
    {
      "cell_type": "markdown",
      "source": [
        "**Import Library**"
      ],
      "metadata": {
        "id": "yRhFqOBV4jBE"
      }
    },
    {
      "cell_type": "code",
      "execution_count": null,
      "metadata": {
        "id": "No4mbb5b4C_d"
      },
      "outputs": [],
      "source": [
        "import pandas as pd"
      ]
    },
    {
      "cell_type": "code",
      "source": [
        "import numpy as np"
      ],
      "metadata": {
        "id": "N2P4duNX5GiJ"
      },
      "execution_count": null,
      "outputs": []
    },
    {
      "cell_type": "code",
      "source": [
        "import matplotlib.pyplot as plt"
      ],
      "metadata": {
        "id": "Y8uqjN3k5JVB"
      },
      "execution_count": null,
      "outputs": []
    },
    {
      "cell_type": "markdown",
      "source": [
        "**Import Data**"
      ],
      "metadata": {
        "id": "wOEWPFqR5SjC"
      }
    },
    {
      "cell_type": "code",
      "source": [
        "from sklearn.datasets import load_digits"
      ],
      "metadata": {
        "id": "U3YK1U7X5YRk"
      },
      "execution_count": null,
      "outputs": []
    },
    {
      "cell_type": "code",
      "source": [
        "df=load_digits()"
      ],
      "metadata": {
        "id": "cDkK_b3y5_z_"
      },
      "execution_count": null,
      "outputs": []
    },
    {
      "cell_type": "code",
      "source": [
        "_, axes = plt.subplots(nrows=1, ncols=4, figsize=(10, 3))\n",
        "for ax, image, label in zip(axes, df.images, df.target):\n",
        "  ax.set_axis_off()\n",
        "  ax.imshow(image, cmap=plt.cm.gray_r, interpolation=\"nearest\")\n",
        "  ax.set_title(\"Trainig: %i\" %label)"
      ],
      "metadata": {
        "colab": {
          "base_uri": "https://localhost:8080/",
          "height": 227
        },
        "id": "IQCvS0fG6E-q",
        "outputId": "0106841d-cbcd-46e4-a434-f7be462297e5"
      },
      "execution_count": null,
      "outputs": [
        {
          "output_type": "display_data",
          "data": {
            "text/plain": [
              "<Figure size 1000x300 with 4 Axes>"
            ],
            "image/png": "[encoded data removed]"
          },
          "metadata": {}
        }
      ]
    },
    {
      "cell_type": "markdown",
      "source": [
        "**Data Preprocessing**"
      ],
      "metadata": {
        "id": "7gaYD4RC7d41"
      }
    },
    {
      "cell_type": "code",
      "source": [
        "df.images.shape"
      ],
      "metadata": {
        "colab": {
          "base_uri": "https://localhost:8080/"
        },
        "id": "yeDfqdsp7g2w",
        "outputId": "0f1a9b1e-ce62-4e82-e5a0-57a6693f0289"
      },
      "execution_count": null,
      "outputs": [
        {
          "output_type": "execute_result",
          "data": {
            "text/plain": [
              "(1797, 8, 8)"
            ]
          },
          "metadata": {},
          "execution_count": 13
        }
      ]
    },
    {
      "cell_type": "code",
      "source": [
        "df.images[0]"
      ],
      "metadata": {
        "colab": {
          "base_uri": "https://localhost:8080/"
        },
        "id": "qyeK1NPZ76zI",
        "outputId": "b55ab4b0-4ded-4356-ed02-f7f2a69d4ead"
      },
      "execution_count": null,
      "outputs": [
        {
          "output_type": "execute_result",
          "data": {
            "text/plain": [
              "array([[ 0.,  0.,  5., 13.,  9.,  1.,  0.,  0.],\n",
              "       [ 0.,  0., 13., 15., 10., 15.,  5.,  0.],\n",
              "       [ 0.,  3., 15.,  2.,  0., 11.,  8.,  0.],\n",
              "       [ 0.,  4., 12.,  0.,  0.,  8.,  8.,  0.],\n",
              "       [ 0.,  5.,  8.,  0.,  0.,  9.,  8.,  0.],\n",
              "       [ 0.,  4., 11.,  0.,  1., 12.,  7.,  0.],\n",
              "       [ 0.,  2., 14.,  5., 10., 12.,  0.,  0.],\n",
              "       [ 0.,  0.,  6., 13., 10.,  0.,  0.,  0.]])"
            ]
          },
          "metadata": {},
          "execution_count": 14
        }
      ]
    },
    {
      "cell_type": "code",
      "source": [
        "df.images[0].shape"
      ],
      "metadata": {
        "colab": {
          "base_uri": "https://localhost:8080/"
        },
        "id": "-pfxqBtW79Ph",
        "outputId": "2d82e99f-a30a-452f-8c4a-50b0333f8088"
      },
      "execution_count": null,
      "outputs": [
        {
          "output_type": "execute_result",
          "data": {
            "text/plain": [
              "(8, 8)"
            ]
          },
          "metadata": {},
          "execution_count": 15
        }
      ]
    },
    {
      "cell_type": "code",
      "source": [
        "len(df.images)"
      ],
      "metadata": {
        "colab": {
          "base_uri": "https://localhost:8080/"
        },
        "id": "7TSVqkqf8OwI",
        "outputId": "098122c7-0f67-4fe4-98c4-04b58ca51a49"
      },
      "execution_count": null,
      "outputs": [
        {
          "output_type": "execute_result",
          "data": {
            "text/plain": [
              "1797"
            ]
          },
          "metadata": {},
          "execution_count": 16
        }
      ]
    },
    {
      "cell_type": "code",
      "source": [
        "n_samples=len(df.images)\n",
        "data=df.images.reshape((n_samples, -1))"
      ],
      "metadata": {
        "id": "ZS7QycZN8SWw"
      },
      "execution_count": null,
      "outputs": []
    },
    {
      "cell_type": "code",
      "source": [
        "data[0]"
      ],
      "metadata": {
        "colab": {
          "base_uri": "https://localhost:8080/"
        },
        "id": "v7mKDdq28dYX",
        "outputId": "6f279dd7-882b-4463-f366-7c5c3e4a154b"
      },
      "execution_count": null,
      "outputs": [
        {
          "output_type": "execute_result",
          "data": {
            "text/plain": [
              "array([ 0.,  0.,  5., 13.,  9.,  1.,  0.,  0.,  0.,  0., 13., 15., 10.,\n",
              "       15.,  5.,  0.,  0.,  3., 15.,  2.,  0., 11.,  8.,  0.,  0.,  4.,\n",
              "       12.,  0.,  0.,  8.,  8.,  0.,  0.,  5.,  8.,  0.,  0.,  9.,  8.,\n",
              "        0.,  0.,  4., 11.,  0.,  1., 12.,  7.,  0.,  0.,  2., 14.,  5.,\n",
              "       10., 12.,  0.,  0.,  0.,  0.,  6., 13., 10.,  0.,  0.,  0.])"
            ]
          },
          "metadata": {},
          "execution_count": 19
        }
      ]
    },
    {
      "cell_type": "code",
      "source": [
        "data[0].shape"
      ],
      "metadata": {
        "colab": {
          "base_uri": "https://localhost:8080/"
        },
        "id": "dOQAfgQj8gtb",
        "outputId": "7f17766c-740d-4d18-d3ff-bcbb2b3b37e9"
      },
      "execution_count": null,
      "outputs": [
        {
          "output_type": "execute_result",
          "data": {
            "text/plain": [
              "(64,)"
            ]
          },
          "metadata": {},
          "execution_count": 20
        }
      ]
    },
    {
      "cell_type": "code",
      "source": [
        "data.shape"
      ],
      "metadata": {
        "colab": {
          "base_uri": "https://localhost:8080/"
        },
        "id": "mVv-5xBj8nn7",
        "outputId": "4a30ae5c-a36c-407f-905e-592966b88d9b"
      },
      "execution_count": null,
      "outputs": [
        {
          "output_type": "execute_result",
          "data": {
            "text/plain": [
              "(1797, 64)"
            ]
          },
          "metadata": {},
          "execution_count": 21
        }
      ]
    },
    {
      "cell_type": "markdown",
      "source": [
        "**Scaling Image Data**"
      ],
      "metadata": {
        "id": "w1gmOxyv8qwj"
      }
    },
    {
      "cell_type": "code",
      "source": [
        "data.min()"
      ],
      "metadata": {
        "colab": {
          "base_uri": "https://localhost:8080/"
        },
        "id": "PRxxOfNN8txC",
        "outputId": "9288fb08-8c65-48d3-c84a-e5c767f30e29"
      },
      "execution_count": null,
      "outputs": [
        {
          "output_type": "execute_result",
          "data": {
            "text/plain": [
              "0.0"
            ]
          },
          "metadata": {},
          "execution_count": 22
        }
      ]
    },
    {
      "cell_type": "code",
      "source": [
        "data.max()"
      ],
      "metadata": {
        "colab": {
          "base_uri": "https://localhost:8080/"
        },
        "id": "x12Ew5-u8zQG",
        "outputId": "882cc6e6-d81b-4d59-ef49-7853ef9ba85e"
      },
      "execution_count": null,
      "outputs": [
        {
          "output_type": "execute_result",
          "data": {
            "text/plain": [
              "16.0"
            ]
          },
          "metadata": {},
          "execution_count": 24
        }
      ]
    },
    {
      "cell_type": "code",
      "source": [
        "data=data/15"
      ],
      "metadata": {
        "id": "9yOA3F5m81Bm"
      },
      "execution_count": null,
      "outputs": []
    },
    {
      "cell_type": "code",
      "source": [
        "data.min()"
      ],
      "metadata": {
        "colab": {
          "base_uri": "https://localhost:8080/"
        },
        "id": "6bo40q6086za",
        "outputId": "422e2abd-5d05-45a9-8469-519906b67da2"
      },
      "execution_count": null,
      "outputs": [
        {
          "output_type": "execute_result",
          "data": {
            "text/plain": [
              "0.0"
            ]
          },
          "metadata": {},
          "execution_count": 30
        }
      ]
    },
    {
      "cell_type": "code",
      "source": [
        "data.max()"
      ],
      "metadata": {
        "colab": {
          "base_uri": "https://localhost:8080/"
        },
        "id": "UdPZZH2W8-mP",
        "outputId": "51d12fd9-2742-4b84-f7bf-ed8fa6f79aa0"
      },
      "execution_count": null,
      "outputs": [
        {
          "output_type": "execute_result",
          "data": {
            "text/plain": [
              "0.06666666666666667"
            ]
          },
          "metadata": {},
          "execution_count": 31
        }
      ]
    },
    {
      "cell_type": "code",
      "source": [
        "data[1]"
      ],
      "metadata": {
        "colab": {
          "base_uri": "https://localhost:8080/"
        },
        "id": "Glh8krmj9Azm",
        "outputId": "d8541f18-cd1a-4100-da8a-0ca2c55d6d5f"
      },
      "execution_count": null,
      "outputs": [
        {
          "output_type": "execute_result",
          "data": {
            "text/plain": [
              "array([0.        , 0.        , 0.        , 0.05      , 0.05416667,\n",
              "       0.02083333, 0.        , 0.        , 0.        , 0.        ,\n",
              "       0.        , 0.04583333, 0.06666667, 0.0375    , 0.        ,\n",
              "       0.        , 0.        , 0.        , 0.0125    , 0.0625    ,\n",
              "       0.06666667, 0.025     , 0.        , 0.        , 0.        ,\n",
              "       0.02916667, 0.0625    , 0.06666667, 0.06666667, 0.00833333,\n",
              "       0.        , 0.        , 0.        , 0.        , 0.00416667,\n",
              "       0.06666667, 0.06666667, 0.0125    , 0.        , 0.        ,\n",
              "       0.        , 0.        , 0.00416667, 0.06666667, 0.06666667,\n",
              "       0.025     , 0.        , 0.        , 0.        , 0.        ,\n",
              "       0.00416667, 0.06666667, 0.06666667, 0.025     , 0.        ,\n",
              "       0.        , 0.        , 0.        , 0.        , 0.04583333,\n",
              "       0.06666667, 0.04166667, 0.        , 0.        ])"
            ]
          },
          "metadata": {},
          "execution_count": 32
        }
      ]
    },
    {
      "cell_type": "markdown",
      "source": [
        "**Train Test Split Data**"
      ],
      "metadata": {
        "id": "qqijuMbP9LJ4"
      }
    },
    {
      "cell_type": "code",
      "source": [
        "from sklearn.model_selection import train_test_split"
      ],
      "metadata": {
        "id": "xdhzTSzj9Kt-"
      },
      "execution_count": null,
      "outputs": []
    },
    {
      "cell_type": "code",
      "source": [
        "X_train, X_test, y_train, y_test = train_test_split(data, df.target, test_size=0.4)"
      ],
      "metadata": {
        "id": "3xDzJSHV9bhG"
      },
      "execution_count": null,
      "outputs": []
    },
    {
      "cell_type": "code",
      "source": [
        "X_train.shape, X_test.shape, y_train.shape, y_test.shape"
      ],
      "metadata": {
        "colab": {
          "base_uri": "https://localhost:8080/"
        },
        "id": "zvcJQ8zH9s6N",
        "outputId": "d668dde9-a94b-43f4-f765-4fe652b915e4"
      },
      "execution_count": null,
      "outputs": [
        {
          "output_type": "execute_result",
          "data": {
            "text/plain": [
              "((1078, 64), (719, 64), (1078,), (719,))"
            ]
          },
          "metadata": {},
          "execution_count": 35
        }
      ]
    },
    {
      "cell_type": "markdown",
      "source": [
        "**Random Forest Model**"
      ],
      "metadata": {
        "id": "R8qpjOuc967p"
      }
    },
    {
      "cell_type": "code",
      "source": [
        "from sklearn.ensemble import RandomForestClassifier"
      ],
      "metadata": {
        "id": "ympSgmrn95Dz"
      },
      "execution_count": null,
      "outputs": []
    },
    {
      "cell_type": "code",
      "source": [
        "rf=RandomForestClassifier()"
      ],
      "metadata": {
        "id": "puQzl8p5-Fhn"
      },
      "execution_count": null,
      "outputs": []
    },
    {
      "cell_type": "code",
      "source": [
        "rf.fit(X_train, y_train)"
      ],
      "metadata": {
        "colab": {
          "base_uri": "https://localhost:8080/",
          "height": 74
        },
        "id": "6lydjU5d-J0-",
        "outputId": "7d049b15-99f5-4c60-fbca-667a7d85d5dc"
      },
      "execution_count": null,
      "outputs": [
        {
          "output_type": "execute_result",
          "data": {
            "text/plain": [
              "RandomForestClassifier()"
            ],
            "text/html": [
              "<style>#sk-container-id-1 {color: black;background-color: white;}#sk-container-id-1 pre{padding: 0;}#sk-container-id-1 div.sk-toggleable {background-color: white;}#sk-container-id-1 label.sk-toggleable__label {cursor: pointer;display: block;width: 100%;margin-bottom: 0;padding: 0.3em;box-sizing: border-box;text-align: center;}#sk-container-id-1 label.sk-toggleable__label-arrow:before {content: \"▸\";float: left;margin-right: 0.25em;color: #696969;}#sk-container-id-1 label.sk-toggleable__label-arrow:hover:before {color: black;}#sk-container-id-1 div.sk-estimator:hover label.sk-toggleable__label-arrow:before {color: black;}#sk-container-id-1 div.sk-toggleable__content {max-height: 0;max-width: 0;overflow: hidden;text-align: left;background-color: #f0f8ff;}#sk-container-id-1 div.sk-toggleable__content pre {margin: 0.2em;color: black;border-radius: 0.25em;background-color: #f0f8ff;}#sk-container-id-1 input.sk-toggleable__control:checked~div.sk-toggleable__content {max-height: 200px;max-width: 100%;overflow: auto;}#sk-container-id-1 input.sk-toggleable__control:checked~label.sk-toggleable__label-arrow:before {content: \"▾\";}#sk-container-id-1 div.sk-estimator input.sk-toggleable__control:checked~label.sk-toggleable__label {background-color: #d4ebff;}#sk-container-id-1 div.sk-label input.sk-toggleable__control:checked~label.sk-toggleable__label {background-color: #d4ebff;}#sk-container-id-1 input.sk-hidden--visually {border: 0;clip: rect(1px 1px 1px 1px);clip: rect(1px, 1px, 1px, 1px);height: 1px;margin: -1px;overflow: hidden;padding: 0;position: absolute;width: 1px;}#sk-container-id-1 div.sk-estimator {font-family: monospace;background-color: #f0f8ff;border: 1px dotted black;border-radius: 0.25em;box-sizing: border-box;margin-bottom: 0.5em;}#sk-container-id-1 div.sk-estimator:hover {background-color: #d4ebff;}#sk-container-id-1 div.sk-parallel-item::after {content: \"\";width: 100%;border-bottom: 1px solid gray;flex-grow: 1;}#sk-container-id-1 div.sk-label:hover label.sk-toggleable__label {background-color: #d4ebff;}#sk-container-id-1 div.sk-serial::before {content: \"\";position: absolute;border-left: 1px solid gray;box-sizing: border-box;top: 0;bottom: 0;left: 50%;z-index: 0;}#sk-container-id-1 div.sk-serial {display: flex;flex-direction: column;align-items: center;background-color: white;padding-right: 0.2em;padding-left: 0.2em;position: relative;}#sk-container-id-1 div.sk-item {position: relative;z-index: 1;}#sk-container-id-1 div.sk-parallel {display: flex;align-items: stretch;justify-content: center;background-color: white;position: relative;}#sk-container-id-1 div.sk-item::before, #sk-container-id-1 div.sk-parallel-item::before {content: \"\";position: absolute;border-left: 1px solid gray;box-sizing: border-box;top: 0;bottom: 0;left: 50%;z-index: -1;}#sk-container-id-1 div.sk-parallel-item {display: flex;flex-direction: column;z-index: 1;position: relative;background-color: white;}#sk-container-id-1 div.sk-parallel-item:first-child::after {align-self: flex-end;width: 50%;}#sk-container-id-1 div.sk-parallel-item:last-child::after {align-self: flex-start;width: 50%;}#sk-container-id-1 div.sk-parallel-item:only-child::after {width: 0;}#sk-container-id-1 div.sk-dashed-wrapped {border: 1px dashed gray;margin: 0 0.4em 0.5em 0.4em;box-sizing: border-box;padding-bottom: 0.4em;background-color: white;}#sk-container-id-1 div.sk-label label {font-family: monospace;font-weight: bold;display: inline-block;line-height: 1.2em;}#sk-container-id-1 div.sk-label-container {text-align: center;}#sk-container-id-1 div.sk-container {/* jupyter's `normalize.less` sets `[hidden] { display: none; }` but bootstrap.min.css set `[hidden] { display: none !important; }` so we also need the `!important` here to be able to override the default hidden behavior on the sphinx rendered scikit-learn.org. See: https://github.com/scikit-learn/scikit-learn/issues/21755 */display: inline-block !important;position: relative;}#sk-container-id-1 div.sk-text-repr-fallback {display: none;}</style><div id=\"sk-container-id-1\" class=\"sk-top-container\"><div class=\"sk-text-repr-fallback\"><pre>RandomForestClassifier()</pre><b>In a Jupyter environment, please rerun this cell to show the HTML representation or trust the notebook. <br />On GitHub, the HTML representation is unable to render, please try loading this page with nbviewer.org.</b></div><div class=\"sk-container\" hidden><div class=\"sk-item\"><div class=\"sk-estimator sk-toggleable\"><input class=\"sk-toggleable__control sk-hidden--visually\" id=\"sk-estimator-id-1\" type=\"checkbox\" checked><label for=\"sk-estimator-id-1\" class=\"sk-toggleable__label sk-toggleable__label-arrow\">RandomForestClassifier</label><div class=\"sk-toggleable__content\"><pre>RandomForestClassifier()</pre></div></div></div></div></div>"
            ]
          },
          "metadata": {},
          "execution_count": 38
        }
      ]
    },
    {
      "cell_type": "markdown",
      "source": [
        "**Predict Test Data**"
      ],
      "metadata": {
        "id": "i9SUDpCq-T4w"
      }
    },
    {
      "cell_type": "code",
      "source": [
        "y_pred=rf.predict(X_test)"
      ],
      "metadata": {
        "id": "dSn2jqQB-OGg"
      },
      "execution_count": null,
      "outputs": []
    },
    {
      "cell_type": "code",
      "source": [
        "y_pred"
      ],
      "metadata": {
        "colab": {
          "base_uri": "https://localhost:8080/"
        },
        "id": "VJrDyrUL-3Dr",
        "outputId": "99093ad2-92e1-48d8-f649-1d372d7ecb2a"
      },
      "execution_count": null,
      "outputs": [
        {
          "output_type": "execute_result",
          "data": {
            "text/plain": [
              "array([5, 6, 4, 0, 4, 2, 0, 7, 8, 2, 2, 3, 3, 6, 1, 6, 8, 0, 8, 2, 6, 5,\n",
              "       8, 9, 1, 4, 2, 7, 3, 0, 3, 9, 2, 4, 9, 8, 8, 5, 9, 8, 7, 6, 5, 9,\n",
              "       3, 2, 7, 4, 8, 9, 7, 8, 2, 9, 4, 1, 3, 4, 9, 7, 8, 6, 3, 7, 9, 6,\n",
              "       5, 6, 4, 2, 3, 7, 8, 6, 4, 6, 9, 8, 8, 7, 5, 4, 8, 7, 4, 1, 2, 7,\n",
              "       6, 3, 1, 9, 0, 7, 1, 2, 8, 9, 7, 5, 3, 9, 9, 5, 0, 5, 1, 4, 0, 2,\n",
              "       5, 7, 0, 9, 0, 2, 3, 6, 7, 4, 8, 9, 0, 8, 6, 8, 2, 2, 4, 2, 8, 2,\n",
              "       3, 6, 0, 2, 1, 0, 9, 1, 0, 7, 4, 3, 4, 9, 8, 0, 2, 6, 7, 8, 2, 4,\n",
              "       1, 0, 7, 5, 8, 9, 3, 7, 6, 2, 2, 2, 3, 4, 5, 5, 3, 3, 7, 9, 4, 5,\n",
              "       6, 4, 5, 3, 3, 7, 9, 5, 6, 5, 6, 7, 4, 2, 1, 4, 8, 9, 5, 6, 0, 6,\n",
              "       5, 2, 2, 8, 0, 2, 1, 0, 6, 4, 2, 4, 4, 6, 3, 6, 0, 1, 3, 1, 7, 7,\n",
              "       8, 9, 9, 0, 5, 0, 6, 1, 1, 0, 1, 2, 3, 6, 1, 6, 3, 2, 1, 7, 6, 9,\n",
              "       5, 8, 3, 6, 0, 9, 8, 3, 5, 4, 7, 3, 0, 1, 7, 9, 6, 1, 9, 3, 3, 7,\n",
              "       1, 9, 7, 5, 5, 8, 4, 9, 0, 9, 6, 2, 6, 4, 9, 6, 0, 9, 5, 7, 3, 1,\n",
              "       6, 2, 9, 8, 7, 1, 5, 9, 7, 1, 6, 3, 2, 9, 8, 9, 8, 5, 6, 6, 4, 7,\n",
              "       5, 1, 2, 5, 2, 1, 0, 6, 0, 1, 5, 1, 7, 4, 8, 6, 2, 8, 1, 2, 1, 3,\n",
              "       7, 5, 1, 8, 7, 4, 6, 8, 7, 8, 9, 7, 9, 7, 4, 4, 4, 3, 7, 8, 8, 7,\n",
              "       8, 3, 4, 4, 1, 1, 8, 4, 8, 5, 2, 1, 6, 2, 9, 6, 8, 4, 2, 4, 9, 1,\n",
              "       5, 6, 7, 8, 6, 8, 7, 0, 3, 2, 3, 9, 3, 6, 7, 6, 3, 0, 5, 4, 3, 0,\n",
              "       8, 0, 7, 5, 5, 1, 3, 0, 5, 9, 5, 2, 1, 5, 4, 7, 7, 1, 2, 0, 2, 5,\n",
              "       9, 4, 3, 9, 0, 9, 9, 9, 9, 3, 5, 2, 0, 0, 6, 0, 1, 1, 9, 3, 6, 0,\n",
              "       0, 8, 0, 0, 9, 0, 7, 2, 5, 1, 2, 2, 4, 7, 2, 6, 8, 4, 6, 5, 9, 6,\n",
              "       5, 6, 3, 5, 1, 1, 5, 0, 6, 5, 1, 5, 9, 8, 4, 9, 2, 7, 2, 9, 7, 6,\n",
              "       7, 9, 7, 6, 0, 1, 8, 8, 2, 3, 9, 8, 6, 4, 9, 0, 2, 1, 9, 5, 8, 0,\n",
              "       8, 4, 2, 8, 8, 9, 5, 1, 8, 5, 5, 8, 9, 5, 2, 8, 7, 9, 6, 9, 7, 0,\n",
              "       3, 3, 5, 5, 0, 7, 8, 0, 1, 7, 1, 3, 8, 6, 5, 7, 3, 0, 5, 2, 2, 9,\n",
              "       3, 1, 5, 7, 1, 6, 8, 4, 3, 8, 6, 5, 9, 9, 1, 0, 0, 9, 5, 9, 3, 1,\n",
              "       4, 6, 2, 6, 1, 9, 4, 6, 0, 8, 0, 7, 4, 7, 3, 4, 0, 7, 4, 7, 9, 1,\n",
              "       2, 5, 0, 7, 5, 0, 6, 4, 1, 4, 9, 1, 2, 1, 4, 6, 9, 4, 3, 5, 5, 9,\n",
              "       5, 6, 6, 4, 8, 2, 3, 1, 9, 2, 3, 7, 5, 6, 5, 9, 3, 6, 0, 1, 3, 1,\n",
              "       7, 9, 4, 5, 3, 7, 6, 2, 3, 8, 2, 6, 3, 1, 3, 2, 5, 4, 1, 2, 6, 6,\n",
              "       8, 9, 7, 2, 6, 2, 2, 1, 7, 7, 4, 8, 4, 2, 9, 0, 8, 9, 9, 5, 1, 7,\n",
              "       0, 5, 8, 3, 7, 0, 7, 4, 3, 6, 1, 2, 4, 9, 6, 1, 1, 6, 1, 1, 0, 3,\n",
              "       2, 2, 2, 8, 6, 3, 5, 7, 4, 7, 3, 3, 6, 4, 0])"
            ]
          },
          "metadata": {},
          "execution_count": 45
        }
      ]
    },
    {
      "cell_type": "code",
      "source": [
        "x_pred=rf.predict(X_test)"
      ],
      "metadata": {
        "id": "FCHq8n_3_61E"
      },
      "execution_count": null,
      "outputs": []
    },
    {
      "cell_type": "code",
      "source": [
        "x_pred"
      ],
      "metadata": {
        "colab": {
          "base_uri": "https://localhost:8080/"
        },
        "id": "kGJ3J-rhAKVW",
        "outputId": "152e217e-9b27-4a21-92a1-38e1d14f8c67"
      },
      "execution_count": null,
      "outputs": [
        {
          "output_type": "execute_result",
          "data": {
            "text/plain": [
              "array([5, 6, 4, 0, 4, 2, 0, 7, 8, 2, 2, 3, 3, 6, 1, 6, 8, 0, 8, 2, 6, 5,\n",
              "       8, 9, 1, 4, 2, 7, 3, 0, 3, 9, 2, 4, 9, 8, 8, 5, 9, 8, 7, 6, 5, 9,\n",
              "       3, 2, 7, 4, 8, 9, 7, 8, 2, 9, 4, 1, 3, 4, 9, 7, 8, 6, 3, 7, 9, 6,\n",
              "       5, 6, 4, 2, 3, 7, 8, 6, 4, 6, 9, 8, 8, 7, 5, 4, 8, 7, 4, 1, 2, 7,\n",
              "       6, 3, 1, 9, 0, 7, 1, 2, 8, 9, 7, 5, 3, 9, 9, 5, 0, 5, 1, 4, 0, 2,\n",
              "       5, 7, 0, 9, 0, 2, 3, 6, 7, 4, 8, 9, 0, 8, 6, 8, 2, 2, 4, 2, 8, 2,\n",
              "       3, 6, 0, 2, 1, 0, 9, 1, 0, 7, 4, 3, 4, 9, 8, 0, 2, 6, 7, 8, 2, 4,\n",
              "       1, 0, 7, 5, 8, 9, 3, 7, 6, 2, 2, 2, 3, 4, 5, 5, 3, 3, 7, 9, 4, 5,\n",
              "       6, 4, 5, 3, 3, 7, 9, 5, 6, 5, 6, 7, 4, 2, 1, 4, 8, 9, 5, 6, 0, 6,\n",
              "       5, 2, 2, 8, 0, 2, 1, 0, 6, 4, 2, 4, 4, 6, 3, 6, 0, 1, 3, 1, 7, 7,\n",
              "       8, 9, 9, 0, 5, 0, 6, 1, 1, 0, 1, 2, 3, 6, 1, 6, 3, 2, 1, 7, 6, 9,\n",
              "       5, 8, 3, 6, 0, 9, 8, 3, 5, 4, 7, 3, 0, 1, 7, 9, 6, 1, 9, 3, 3, 7,\n",
              "       1, 9, 7, 5, 5, 8, 4, 9, 0, 9, 6, 2, 6, 4, 9, 6, 0, 9, 5, 7, 3, 1,\n",
              "       6, 2, 9, 8, 7, 1, 5, 9, 7, 1, 6, 3, 2, 9, 8, 9, 8, 5, 6, 6, 4, 7,\n",
              "       5, 1, 2, 5, 2, 1, 0, 6, 0, 1, 5, 1, 7, 4, 8, 6, 2, 8, 1, 2, 1, 3,\n",
              "       7, 5, 1, 8, 7, 4, 6, 8, 7, 8, 9, 7, 9, 7, 4, 4, 4, 3, 7, 8, 8, 7,\n",
              "       8, 3, 4, 4, 1, 1, 8, 4, 8, 5, 2, 1, 6, 2, 9, 6, 8, 4, 2, 4, 9, 1,\n",
              "       5, 6, 7, 8, 6, 8, 7, 0, 3, 2, 3, 9, 3, 6, 7, 6, 3, 0, 5, 4, 3, 0,\n",
              "       8, 0, 7, 5, 5, 1, 3, 0, 5, 9, 5, 2, 1, 5, 4, 7, 7, 1, 2, 0, 2, 5,\n",
              "       9, 4, 3, 9, 0, 9, 9, 9, 9, 3, 5, 2, 0, 0, 6, 0, 1, 1, 9, 3, 6, 0,\n",
              "       0, 8, 0, 0, 9, 0, 7, 2, 5, 1, 2, 2, 4, 7, 2, 6, 8, 4, 6, 5, 9, 6,\n",
              "       5, 6, 3, 5, 1, 1, 5, 0, 6, 5, 1, 5, 9, 8, 4, 9, 2, 7, 2, 9, 7, 6,\n",
              "       7, 9, 7, 6, 0, 1, 8, 8, 2, 3, 9, 8, 6, 4, 9, 0, 2, 1, 9, 5, 8, 0,\n",
              "       8, 4, 2, 8, 8, 9, 5, 1, 8, 5, 5, 8, 9, 5, 2, 8, 7, 9, 6, 9, 7, 0,\n",
              "       3, 3, 5, 5, 0, 7, 8, 0, 1, 7, 1, 3, 8, 6, 5, 7, 3, 0, 5, 2, 2, 9,\n",
              "       3, 1, 5, 7, 1, 6, 8, 4, 3, 8, 6, 5, 9, 9, 1, 0, 0, 9, 5, 9, 3, 1,\n",
              "       4, 6, 2, 6, 1, 9, 4, 6, 0, 8, 0, 7, 4, 7, 3, 4, 0, 7, 4, 7, 9, 1,\n",
              "       2, 5, 0, 7, 5, 0, 6, 4, 1, 4, 9, 1, 2, 1, 4, 6, 9, 4, 3, 5, 5, 9,\n",
              "       5, 6, 6, 4, 8, 2, 3, 1, 9, 2, 3, 7, 5, 6, 5, 9, 3, 6, 0, 1, 3, 1,\n",
              "       7, 9, 4, 5, 3, 7, 6, 2, 3, 8, 2, 6, 3, 1, 3, 2, 5, 4, 1, 2, 6, 6,\n",
              "       8, 9, 7, 2, 6, 2, 2, 1, 7, 7, 4, 8, 4, 2, 9, 0, 8, 9, 9, 5, 1, 7,\n",
              "       0, 5, 8, 3, 7, 0, 7, 4, 3, 6, 1, 2, 4, 9, 6, 1, 1, 6, 1, 1, 0, 3,\n",
              "       2, 2, 2, 8, 6, 3, 5, 7, 4, 7, 3, 3, 6, 4, 0])"
            ]
          },
          "metadata": {},
          "execution_count": 47
        }
      ]
    },
    {
      "cell_type": "markdown",
      "source": [
        "**Model Accuracy**"
      ],
      "metadata": {
        "id": "1UjNPWIT_EmM"
      }
    },
    {
      "cell_type": "code",
      "source": [
        "from sklearn.metrics import confusion_matrix, classification_report"
      ],
      "metadata": {
        "id": "Pk3mGyA_-4iS"
      },
      "execution_count": null,
      "outputs": []
    },
    {
      "cell_type": "code",
      "source": [
        "confusion_matrix(y_test, y_pred)"
      ],
      "metadata": {
        "colab": {
          "base_uri": "https://localhost:8080/"
        },
        "id": "hysUZP4b_P17",
        "outputId": "42eb83b3-6ea4-4d41-a21a-ece22aaa79ff"
      },
      "execution_count": null,
      "outputs": [
        {
          "output_type": "execute_result",
          "data": {
            "text/plain": [
              "array([[64,  0,  0,  0,  2,  0,  0,  0,  0,  0],\n",
              "       [ 0, 68,  0,  0,  0,  0,  0,  0,  0,  0],\n",
              "       [ 0,  0, 74,  0,  0,  0,  0,  0,  0,  1],\n",
              "       [ 0,  1,  0, 66,  0,  1,  0,  1,  0,  0],\n",
              "       [ 0,  0,  0,  0, 64,  0,  0,  2,  0,  1],\n",
              "       [ 0,  0,  0,  0,  0, 71,  0,  0,  0,  1],\n",
              "       [ 0,  1,  0,  0,  0,  0, 79,  0,  1,  0],\n",
              "       [ 0,  0,  0,  0,  0,  0,  0, 71,  0,  0],\n",
              "       [ 0,  1,  0,  0,  0,  0,  0,  0, 67,  0],\n",
              "       [ 0,  0,  0,  1,  0,  0,  0,  1,  2, 78]])"
            ]
          },
          "metadata": {},
          "execution_count": 42
        }
      ]
    },
    {
      "cell_type": "code",
      "source": [
        "print(classification_report(y_test, y_pred))"
      ],
      "metadata": {
        "colab": {
          "base_uri": "https://localhost:8080/"
        },
        "id": "0bEZyl-T_Vr8",
        "outputId": "861c261e-d512-45e9-bac0-9b83567cfe8d"
      },
      "execution_count": null,
      "outputs": [
        {
          "output_type": "stream",
          "name": "stdout",
          "text": [
            "              precision    recall  f1-score   support\n",
            "\n",
            "           0       1.00      0.97      0.98        66\n",
            "           1       0.96      1.00      0.98        68\n",
            "           2       1.00      0.99      0.99        75\n",
            "           3       0.99      0.96      0.97        69\n",
            "           4       0.97      0.96      0.96        67\n",
            "           5       0.99      0.99      0.99        72\n",
            "           6       1.00      0.98      0.99        81\n",
            "           7       0.95      1.00      0.97        71\n",
            "           8       0.96      0.99      0.97        68\n",
            "           9       0.96      0.95      0.96        82\n",
            "\n",
            "    accuracy                           0.98       719\n",
            "   macro avg       0.98      0.98      0.98       719\n",
            "weighted avg       0.98      0.98      0.98       719\n",
            "\n"
          ]
        }
      ]
    },
    {
      "cell_type": "code",
      "source": [
        "print(classification_report(y_test, x_pred))"
      ],
      "metadata": {
        "colab": {
          "base_uri": "https://localhost:8080/"
        },
        "id": "iq0PmUR1_0EJ",
        "outputId": "b2546b34-0677-4345-d43b-3b29e43376cd"
      },
      "execution_count": null,
      "outputs": [
        {
          "output_type": "stream",
          "name": "stdout",
          "text": [
            "              precision    recall  f1-score   support\n",
            "\n",
            "           0       1.00      0.97      0.98        66\n",
            "           1       0.96      1.00      0.98        68\n",
            "           2       1.00      0.99      0.99        75\n",
            "           3       0.99      0.96      0.97        69\n",
            "           4       0.97      0.96      0.96        67\n",
            "           5       0.99      0.99      0.99        72\n",
            "           6       1.00      0.98      0.99        81\n",
            "           7       0.95      1.00      0.97        71\n",
            "           8       0.96      0.99      0.97        68\n",
            "           9       0.96      0.95      0.96        82\n",
            "\n",
            "    accuracy                           0.98       719\n",
            "   macro avg       0.98      0.98      0.98       719\n",
            "weighted avg       0.98      0.98      0.98       719\n",
            "\n"
          ]
        }
      ]
    },
    {
      "cell_type": "markdown",
      "source": [
        "**EXPLANATION :**\n",
        "This project tackles a classic problem in machine learning: handwritten digit recognition. The goal is to build a model that can accurately predict the digit (0-9) represented by a handwritten image. Here's a breakdown of the key steps:\n",
        "\n",
        "\n",
        "* Data Acquisition\n",
        "* Data Preprocessing\n",
        "* Model Selection and Training:\n",
        "* Model Evaluation\n",
        "* Visualization and Deployment\n",
        "\n",
        "Benefits of this project:\n",
        "\n",
        "*  Lays the foundation for exploring more complex deep learning models for computer vision tasks.\n",
        "*  Provides a hands-on introduction to machine learning concepts like classification, training, and evaluation.\n",
        "*  Offers a practical application of image recognition techniques.\n",
        "\n",
        "\n",
        "\n"
      ],
      "metadata": {
        "id": "FwUa59_EIbEr"
      }
    }
  ]
}
